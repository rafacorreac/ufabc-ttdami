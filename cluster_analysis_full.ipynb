{
 "cells": [
  {
   "cell_type": "markdown",
   "id": "2b245e99",
   "metadata": {},
   "source": [
    "# Análise de Cluster Hierárquico na Fluencypass\n",
    "Este notebook reproduz passo a passo todo o fluxo de limpeza, normalização, clusterização hierárquica, visualizações e projeção PCA, conforme descrito no artigo."
   ]
  },
  {
   "cell_type": "markdown",
   "id": "71373273",
   "metadata": {},
   "source": [
    "## 1. Importação de Bibliotecas"
   ]
  },
  {
   "cell_type": "code",
   "execution_count": null,
   "id": "d6a436ef",
   "metadata": {},
   "outputs": [],
   "source": [
    "import pandas as pd\n",
    "from sklearn.preprocessing import StandardScaler\n",
    "from scipy.cluster.hierarchy import linkage, dendrogram, fcluster\n",
    "from scipy.spatial.distance import pdist\n",
    "from sklearn.decomposition import PCA\n",
    "import matplotlib.pyplot as plt\n"
   ]
  },
  {
   "cell_type": "markdown",
   "id": "2b2a8c5f",
   "metadata": {},
   "source": [
    "## 2. Carregar Dados"
   ]
  },
  {
   "cell_type": "code",
   "execution_count": null,
   "id": "bc8c0a1e",
   "metadata": {},
   "outputs": [],
   "source": [
    "# Ajuste o caminho se necessário\n",
    "df = pd.read_csv('fluencypass_students.csv', sep=';')\n",
    "df.columns = ['total_activities', 'private_talks', 'group_talks']\n",
    "df.head()\n"
   ]
  },
  {
   "cell_type": "markdown",
   "id": "cf9a4777",
   "metadata": {},
   "source": [
    "## 3. Limpeza e Verificação Inicial"
   ]
  },
  {
   "cell_type": "code",
   "execution_count": null,
   "id": "b73cdc7a",
   "metadata": {},
   "outputs": [],
   "source": [
    "# Verificar informações básicas e estatísticas\n",
    "print(df.info())\n",
    "print(df.describe())\n"
   ]
  },
  {
   "cell_type": "markdown",
   "id": "879a32a6",
   "metadata": {},
   "source": [
    "## 4. Normalização dos Dados"
   ]
  },
  {
   "cell_type": "code",
   "execution_count": null,
   "id": "69cc3f6a",
   "metadata": {},
   "outputs": [],
   "source": [
    "scaler = StandardScaler()\n",
    "dados_padronizados = scaler.fit_transform(df[['total_activities','private_talks','group_talks']])\n"
   ]
  },
  {
   "cell_type": "markdown",
   "id": "7286fc09",
   "metadata": {},
   "source": [
    "## 5. Cálculo da Matriz de Distâncias e Linkage (Ward)"
   ]
  },
  {
   "cell_type": "code",
   "execution_count": null,
   "id": "5c04cc55",
   "metadata": {},
   "outputs": [],
   "source": [
    "distance_matrix = pdist(dados_padronizados, metric='euclidean')\n",
    "linked = linkage(distance_matrix, method='ward')\n"
   ]
  },
  {
   "cell_type": "markdown",
   "id": "9efe3fbe",
   "metadata": {},
   "source": [
    "## 6. Visualização do Dendrograma"
   ]
  },
  {
   "cell_type": "code",
   "execution_count": null,
   "id": "5f38bceb",
   "metadata": {},
   "outputs": [],
   "source": [
    "plt.figure(figsize=(12, 6))\n",
    "dendrogram(linked, truncate_mode='lastp', p=30,\n",
    "           leaf_rotation=45., leaf_font_size=10., show_contracted=True)\n",
    "plt.title('Figura 1. Dendrograma da Análise de Cluster Hierárquico')\n",
    "plt.xlabel('Amostras de Estudantes')\n",
    "plt.ylabel('Distância Euclidiana')\n",
    "plt.tight_layout()\n",
    "plt.savefig('dendrograma_cluster.png')\n",
    "plt.show()\n"
   ]
  },
  {
   "cell_type": "markdown",
   "id": "a016e853",
   "metadata": {},
   "source": [
    "## 7. Definição de 5 Clusters"
   ]
  },
  {
   "cell_type": "code",
   "execution_count": null,
   "id": "915b12d8",
   "metadata": {},
   "outputs": [],
   "source": [
    "cluster_labels = fcluster(linked, t=5, criterion='maxclust')\n",
    "df['cluster'] = cluster_labels\n",
    "df['cluster'].value_counts().sort_index()\n"
   ]
  },
  {
   "cell_type": "markdown",
   "id": "6cdc89d5",
   "metadata": {},
   "source": [
    "## 8. Cálculo do Perfil Médio por Cluster"
   ]
  },
  {
   "cell_type": "code",
   "execution_count": null,
   "id": "abc471c6",
   "metadata": {},
   "outputs": [],
   "source": [
    "cluster_profile = df.groupby('cluster')[['total_activities','private_talks','group_talks']].mean().round(2)\n",
    "cluster_profile\n"
   ]
  },
  {
   "cell_type": "markdown",
   "id": "8177c650",
   "metadata": {},
   "source": [
    "## 9. Redução de Dimensionalidade por PCA"
   ]
  },
  {
   "cell_type": "code",
   "execution_count": null,
   "id": "63147df4",
   "metadata": {},
   "outputs": [],
   "source": [
    "pca = PCA(n_components=2)\n",
    "coords = pca.fit_transform(dados_padronizados)\n",
    "print('Explained variance ratio:', pca.explained_variance_ratio_)\n"
   ]
  },
  {
   "cell_type": "markdown",
   "id": "5dcd2020",
   "metadata": {},
   "source": [
    "## 10. Plotagem da Projeção PCA com Clusters"
   ]
  },
  {
   "cell_type": "code",
   "execution_count": null,
   "id": "ae5825d0",
   "metadata": {},
   "outputs": [],
   "source": [
    "plt.figure(figsize=(8, 6))\n",
    "plt.scatter(coords[:, 0], coords[:, 1], c=cluster_labels, cmap='tab10')\n",
    "plt.title('Figura 2. Projeção dos Clusters em Espaço PCA')\n",
    "plt.xlabel('Componente Principal 1')\n",
    "plt.ylabel('Componente Principal 2')\n",
    "plt.colorbar(label='Cluster')\n",
    "plt.tight_layout()\n",
    "plt.savefig('clusters_pca.png')\n",
    "plt.show()\n"
   ]
  },
  {
   "cell_type": "markdown",
   "id": "ecce630c",
   "metadata": {},
   "source": [
    "## 11. Exportação dos Resultados"
   ]
  },
  {
   "cell_type": "code",
   "execution_count": null,
   "id": "29423628",
   "metadata": {},
   "outputs": [],
   "source": [
    "# Salvar CSVs de saída\n",
    "df.to_csv('students_with_clusters.csv', index=False)\n",
    "cluster_profile.to_csv('cluster_profiles.csv')\n",
    "print('Arquivos gerados: dendrograma_cluster.png, clusters_pca.png, students_with_clusters.csv, cluster_profiles.csv')\n"
   ]
  }
 ],
 "metadata": {},
 "nbformat": 4,
 "nbformat_minor": 5
}
